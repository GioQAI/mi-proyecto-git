{
 "cells": [
  {
   "cell_type": "code",
   "execution_count": null,
   "id": "339f44e7",
   "metadata": {
    "vscode": {
     "languageId": "plaintext"
    }
   },
   "outputs": [],
   "source": [
    "# regresion.ipynb\n",
    "\n",
    "from sklearn.datasets import fetch_california_housing\n",
    "from sklearn.model_selection import train_test_split\n",
    "from sklearn.linear_model import LinearRegression\n",
    "from sklearn.metrics import mean_squared_error\n",
    "import pandas as pd\n",
    "import matplotlib.pyplot as plt\n",
    "\n",
    "# Cargar dataset\n",
    "data = fetch_california_housing()\n",
    "X = pd.DataFrame(data.data, columns=data.feature_names)\n",
    "y = pd.Series(data.target, name='MedHouseVal')\n",
    "\n",
    "# Dividir en entrenamiento y prueba\n",
    "X_train, X_test, y_train, y_test = train_test_split(\n",
    "    X, y, test_size=0.2, random_state=42)\n",
    "\n",
    "# Definir los hiperparametros del modelo\n",
    "# params = {\n",
    "#     \"fit_intercept\": \"bool\",\n",
    "# }\n",
    "\n",
    "# Crear y entrenar modelo\n",
    "modelo = LinearRegression()\n",
    "modelo.fit(X_train, y_train)\n",
    "\n",
    "# Predecir\n",
    "y_pred = modelo.predict(X_test)\n",
    "\n",
    "# Evaluar\n",
    "mse = mean_squared_error(y_test, y_pred)\n",
    "print(f\"Error cuadrático medio (MSE): {mse:.4f}\")\n",
    "\n",
    "# Visualizar relación real vs predicha\n",
    "plt.scatter(y_test, y_pred, alpha=0.5)\n",
    "plt.xlabel(\"Valor real\")\n",
    "plt.ylabel(\"Valor predicho\")\n",
    "plt.title(\"Regresión lineal: Valor real vs predicho\")\n",
    "plt.grid(True)\n",
    "plt.show()"
   ]
  }
 ],
 "metadata": {
  "language_info": {
   "name": "python"
  }
 },
 "nbformat": 4,
 "nbformat_minor": 5
}
